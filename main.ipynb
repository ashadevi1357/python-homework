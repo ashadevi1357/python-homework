{
 "cells": [
  {
   "cell_type": "code",
   "execution_count": null,
   "id": "06918628-d58c-4308-92aa-d1ded7d108ee",
   "metadata": {},
   "outputs": [],
   "source": [
    "\"\"\"\n",
    "This script will demonstrate the below listed financial analysis for PyBank company over the course of 86 months.\n",
    "\n",
    "* The total number of months included in the dataset.\n",
    "* The net total amount of Profit/Losses over the entire period.\n",
    "* The average of the changes in Profit/Losses over the entire period.\n",
    "* The greatest increase in profits (date and amount) over the entire period.\n",
    "* The greatest decrease in losses (date and amount) over the entire period.\n",
    "\"\"\""
   ]
  },
  {
   "cell_type": "code",
   "execution_count": 54,
   "id": "7290b9f6-9683-42d7-9f6a-8eb4c8e43c09",
   "metadata": {},
   "outputs": [
    {
     "name": "stdout",
     "output_type": "stream",
     "text": [
      "Current Working Directory: C:\\Users\\ashad\\MONU-VIRT-FIN-PT-11-2022-U-LOLC-main\\Homework\\02-Python\\PyBank\n"
     ]
    }
   ],
   "source": [
    "# From the pathlib library, import the main class Path\n",
    "from pathlib import Path\n",
    "import csv\n",
    "\n",
    "# Check the current directory where the Python program is executing from\n",
    "print(f\"Current Working Directory: {Path.cwd()}\")\n"
   ]
  },
  {
   "cell_type": "code",
   "execution_count": 59,
   "id": "feddeb1e-9ae9-4772-ae99-832a43bde42c",
   "metadata": {},
   "outputs": [],
   "source": [
    "# Set the path using Pathlib\n",
    "csvpath = Path(\"Resources/budget_data.csv\")\n"
   ]
  },
  {
   "cell_type": "code",
   "execution_count": 86,
   "id": "2925bc85-cf04-4016-b2b2-f03f4be0fa2d",
   "metadata": {},
   "outputs": [
    {
     "name": "stdout",
     "output_type": "stream",
     "text": [
      "The total number of months included in the dataset: 86\n",
      "The net total amount of Profit/Losses over the entire period: 38382578\n",
      "The average of the changes in Profit/Losses over the entire period: -2315.1176470588234\n",
      "The greatest decrease in losses (date and amount) over the entire period: -2196167\n",
      "The greatest increase in profits (date and amount) over the entire period: 1926159\n"
     ]
    }
   ],
   "source": [
    "# Open the csv file as an object\n",
    "with open(csvpath, \"r\") as csvfile:\n",
    "    count = 1\n",
    "    minimum = 0\n",
    "    maximum = 0\n",
    "    all_change = []\n",
    "\n",
    "    # Pass in the csv file to the csv.reader() function\n",
    "    # (with ',' as the delmiter/separator) and return the csvreader object\n",
    "    csvreader = csv.reader(csvfile, delimiter=\",\")\n",
    "    \n",
    "    # Read the header row first (skip this step if there is no header)\n",
    "    csv_header = next(csvreader)\n",
    "    previous_row = next(csvreader)\n",
    "    total = int(previous_row[1])\n",
    "    \n",
    "     # Read each row of data after the header\n",
    "    for row in csvreader:\n",
    "        # Print the row\n",
    "        # print(\"prev row\",previous_row)\n",
    "        # print(\"current row\", row)\n",
    "        change = int(row[1]) - int(previous_row[1])\n",
    "        # print(change)\n",
    "        total += int(row[1])\n",
    "        count += 1\n",
    "        previous_row = row\n",
    "        \n",
    "        # Append change to list\n",
    "        all_change.append(change)\n",
    "        \n",
    "        # Logic to determine minimum and maximum values\n",
    "        if minimum == 0:\n",
    "            minimum = change\n",
    "        elif change < minimum:\n",
    "            minimum = change\n",
    "        elif change > maximum:\n",
    "            maximum = change     \n",
    "    \n",
    "    print(f\"The total number of months included in the dataset: {count}\")\n",
    "    print(f\"The net total amount of Profit/Losses over the entire period: {total}\")\n",
    "    print(f\"The average of the changes in Profit/Losses over the entire period: {sum(all_change)/len(all_change)}\")\n",
    "    print(f\"The greatest decrease in losses (date and amount) over the entire period: {minimum}\")\n",
    "    print(f\"The greatest increase in profits (date and amount) over the entire period: {maximum}\")"
   ]
  },
  {
   "cell_type": "code",
   "execution_count": 65,
   "id": "d518d521-2a66-4b0b-835b-9f318b3c8f7d",
   "metadata": {},
   "outputs": [],
   "source": [
    "# Set output file name\n",
    "output_path = 'output.txt'"
   ]
  },
  {
   "cell_type": "code",
   "execution_count": 122,
   "id": "254462cb-ec02-4b3b-9065-65af95708f48",
   "metadata": {},
   "outputs": [],
   "source": [
    "# Open the output path as a file object\n",
    "with open(output_path, 'w') as file:\n",
    "    # Write financial analysis outcome to the output file, convert to string\n",
    "    \n",
    "    file.write(\"This is a financial analysis output file.\\n\")\n",
    "    \n",
    "    file.write(f\"The total number of months included in the dataset: {count}.\\n\")\n",
    "    \n",
    "    file.write(f\"The net total amount of Profit/Losses over the entire period: {total}.\\n\")\n",
    "    \n",
    "    file.write(f\"The average of the changes in Profit/Losses over the entire period: {sum(all_change)/len(all_change)}.\\n\")\n",
    "    \n",
    "    file.write(f\"The greatest decrease in losses (date and amount) over the entire period: {minimum}.\\n\")\n",
    "    \n",
    "    file.write(f\"The greatest increase in profits (date and amount) over the entire period: {maximum}.\\n\")\n"
   ]
  },
  {
   "cell_type": "code",
   "execution_count": null,
   "id": "08a8603a-9435-4d20-9e1e-17631d9f5f72",
   "metadata": {},
   "outputs": [],
   "source": []
  }
 ],
 "metadata": {
  "kernelspec": {
   "display_name": "Python 3 (ipykernel)",
   "language": "python",
   "name": "python3"
  },
  "language_info": {
   "codemirror_mode": {
    "name": "ipython",
    "version": 3
   },
   "file_extension": ".py",
   "mimetype": "text/x-python",
   "name": "python",
   "nbconvert_exporter": "python",
   "pygments_lexer": "ipython3",
   "version": "3.9.13"
  }
 },
 "nbformat": 4,
 "nbformat_minor": 5
}
